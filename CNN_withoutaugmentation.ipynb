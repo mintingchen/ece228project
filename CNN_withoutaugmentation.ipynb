{
 "cells": [
  {
   "cell_type": "markdown",
   "metadata": {},
   "source": [
    "# Baseline CNN Model for American Sign Language Classification"
   ]
  },
  {
   "cell_type": "code",
   "execution_count": 3,
   "metadata": {},
   "outputs": [],
   "source": [
    "import numpy as np\n",
    "import tensorflow as tf\n",
    "from tensorflow.keras.layers import Conv2D, Dense, Flatten, Dropout, MaxPooling2D\n",
    "from tensorflow.keras.models import Sequential, save_model\n",
    "from tensorflow.keras.utils import to_categorical\n",
    "from tensorflow.keras.callbacks import ModelCheckpoint\n",
    "from sklearn.model_selection import train_test_split\n",
    "from sklearn.utils import shuffle\n",
    "import os\n",
    "import cv2\n",
    "import matplotlib.pyplot as plt\n",
    "from keras.preprocessing.image import ImageDataGenerator\n",
    "import matplotlib.image as mpimg\n",
    "import numpy as np\n",
    "from matplotlib import pyplot\n",
    "from tensorflow import keras\n",
    "from tensorflow.keras import layers"
   ]
  },
  {
   "cell_type": "markdown",
   "metadata": {},
   "source": [
    "### Part One: Data Loader"
   ]
  },
  {
   "cell_type": "code",
   "execution_count": 4,
   "metadata": {},
   "outputs": [],
   "source": [
    "dict_labels = {\n",
    "    '0':1, '1':2, '2':3, '3':4, '4':5, '5':6, '6':7, '7':8, '8':9, '9':10,\n",
    "    'a':11, 'b':12, 'c':13, 'd':14, 'e':15, 'f':16, 'g':17, 'h':18, 'i':19,\n",
    "    'j':20, 'k':21, 'l':22, 'm':23, 'n':24, 'o':25, 'p':26, 'q':27, 'r':28,\n",
    "    's':29, 't':30, 'u':31, 'v':32, 'w':33, 'x':34, 'y':35, 'z':36, \n",
    "}\n",
    "img_size = 50"
   ]
  },
  {
   "cell_type": "markdown",
   "metadata": {},
   "source": [
    "#### Big data (400\\*400)"
   ]
  },
  {
   "cell_type": "code",
   "execution_count": 5,
   "metadata": {},
   "outputs": [],
   "source": [
    "# train set\n",
    "xb = []\n",
    "yb = []\n",
    "path = 'Data/asl/train_asl/'\n",
    "gestures = os.listdir(path)[1:]\n",
    "\n",
    "for ix in gestures:\n",
    "    images = os.listdir(path +ix)\n",
    "    for cx in images:\n",
    "        img_path = path+'/' +ix + '/' + cx\n",
    "        img = cv2.imread(img_path, 1)\n",
    "        img = cv2.resize(img, (img_size,img_size), interpolation = cv2.INTER_AREA) \n",
    "\n",
    "        xb.append(img)\n",
    "        yb.append(dict_labels[ix])"
   ]
  },
  {
   "cell_type": "code",
   "execution_count": 6,
   "metadata": {},
   "outputs": [],
   "source": [
    "Yb = to_categorical(np.array(yb))\n",
    "Xb = np.array(xb)/255.0 # normalization"
   ]
  },
  {
   "cell_type": "code",
   "execution_count": 7,
   "metadata": {},
   "outputs": [],
   "source": [
    "# test set\n",
    "xb_test = []\n",
    "yb_test = []\n",
    "path_test = 'Data/asl/test_asl/'\n",
    "gestures_test = os.listdir(path_test)[1:]\n",
    "\n",
    "for ix in gestures_test:\n",
    "    images = os.listdir(path_test +ix)\n",
    "    for cx in images:\n",
    "        img_path = path_test+'/' +ix + '/' + cx\n",
    "        img = cv2.imread(img_path, 1)\n",
    "        img = cv2.resize(img, (img_size,img_size), interpolation = cv2.INTER_AREA) \n",
    "\n",
    "        xb_test.append(img)\n",
    "        yb_test.append(dict_labels[ix])"
   ]
  },
  {
   "cell_type": "code",
   "execution_count": 8,
   "metadata": {},
   "outputs": [],
   "source": [
    "Yb_test = to_categorical(np.array(yb_test))\n",
    "Xb_test = np.array(xb_test)/255.0   # normalization     "
   ]
  },
  {
   "cell_type": "code",
   "execution_count": 9,
   "metadata": {},
   "outputs": [],
   "source": [
    "# split train data into train set and validation set\n",
    "Xb_train, Xb_val, Yb_train, Yb_val = train_test_split(Xb, Yb, test_size=0.2,shuffle=True)"
   ]
  },
  {
   "cell_type": "markdown",
   "metadata": {},
   "source": [
    "### Part Two: Build the CNN Model \n",
    "Referencing the CNN model described in the [Using Deep Convolutional Networks for Gesture Recognition in American Sign Language](https://arxiv.org/pdf/1710.06836.pdf) paper."
   ]
  },
  {
   "cell_type": "code",
   "execution_count": 10,
   "metadata": {},
   "outputs": [],
   "source": [
    "model = keras.Sequential(\n",
    "    [\n",
    "        layers.Conv2D(32, (3, 3), activation='relu', input_shape=(img_size, img_size, 3)),\n",
    "        layers.Conv2D(32, (3, 3), activation='relu'),\n",
    "        layers.MaxPooling2D(pool_size=(2, 2)),\n",
    "        layers.Dropout(0.25),\n",
    "        layers.Conv2D(32, (3, 3), activation='relu'),\n",
    "        layers.Conv2D(32, (3, 3), activation='relu'),\n",
    "        layers.MaxPooling2D(pool_size=(2, 2)),\n",
    "        layers.Conv2D(64, (3, 3), activation='relu'),\n",
    "        layers.Conv2D(64, (3, 3), activation='relu'),\n",
    "        layers.MaxPooling2D(pool_size=(2, 2)),\n",
    "        layers.Dropout(0.25),\n",
    "        layers.Flatten(),\n",
    "        layers.Dense(128, activation='relu'),\n",
    "        layers.Dropout(0.3),\n",
    "        layers.Dense(128, activation='relu'),\n",
    "        layers.Dropout(0.3),\n",
    "        layers.Dense(37, activation='softmax')\n",
    "    ]\n",
    ")"
   ]
  },
  {
   "cell_type": "code",
   "execution_count": 11,
   "metadata": {
    "scrolled": true
   },
   "outputs": [],
   "source": [
    "model.compile(loss='categorical_crossentropy', optimizer=\"adam\", metrics=['accuracy'])"
   ]
  },
  {
   "cell_type": "code",
   "execution_count": 12,
   "metadata": {
    "scrolled": true
   },
   "outputs": [
    {
     "name": "stdout",
     "output_type": "stream",
     "text": [
      "Epoch 1/100\n",
      "506/506 [==============================] - 120s 233ms/step - loss: 2.5737 - accuracy: 0.2205 - val_loss: 1.3111 - val_accuracy: 0.5757\n",
      "Epoch 2/100\n",
      "506/506 [==============================] - 124s 245ms/step - loss: 1.2024 - accuracy: 0.5763 - val_loss: 0.5280 - val_accuracy: 0.8123\n",
      "Epoch 3/100\n",
      "506/506 [==============================] - 109s 215ms/step - loss: 0.7672 - accuracy: 0.7107 - val_loss: 0.4198 - val_accuracy: 0.8333\n",
      "Epoch 4/100\n",
      "506/506 [==============================] - 83s 164ms/step - loss: 0.5700 - accuracy: 0.7726 - val_loss: 0.2775 - val_accuracy: 0.8895\n",
      "Epoch 5/100\n",
      "506/506 [==============================] - 89s 176ms/step - loss: 0.4673 - accuracy: 0.8157 - val_loss: 0.2293 - val_accuracy: 0.9045\n",
      "Epoch 6/100\n",
      "506/506 [==============================] - 92s 183ms/step - loss: 0.4128 - accuracy: 0.8343 - val_loss: 0.2354 - val_accuracy: 0.8996\n",
      "Epoch 7/100\n",
      "506/506 [==============================] - 92s 182ms/step - loss: 0.3666 - accuracy: 0.8534 - val_loss: 0.1861 - val_accuracy: 0.9204\n",
      "Epoch 8/100\n",
      "506/506 [==============================] - 101s 200ms/step - loss: 0.3339 - accuracy: 0.8666 - val_loss: 0.1607 - val_accuracy: 0.9350\n",
      "Epoch 9/100\n",
      "506/506 [==============================] - 88s 173ms/step - loss: 0.3075 - accuracy: 0.8766 - val_loss: 0.1538 - val_accuracy: 0.9350\n",
      "Epoch 10/100\n",
      "506/506 [==============================] - 90s 177ms/step - loss: 0.2869 - accuracy: 0.8882 - val_loss: 0.1558 - val_accuracy: 0.9320\n",
      "Epoch 11/100\n",
      "506/506 [==============================] - 87s 171ms/step - loss: 0.2587 - accuracy: 0.8966 - val_loss: 0.1290 - val_accuracy: 0.9439\n",
      "Epoch 12/100\n",
      "506/506 [==============================] - 84s 166ms/step - loss: 0.2445 - accuracy: 0.9052 - val_loss: 0.1106 - val_accuracy: 0.9530\n",
      "Epoch 13/100\n",
      "506/506 [==============================] - 90s 177ms/step - loss: 0.2237 - accuracy: 0.9133 - val_loss: 0.1006 - val_accuracy: 0.9562\n",
      "Epoch 14/100\n",
      "506/506 [==============================] - 85s 169ms/step - loss: 0.2177 - accuracy: 0.9150 - val_loss: 0.1110 - val_accuracy: 0.9520\n",
      "Epoch 15/100\n",
      "506/506 [==============================] - 94s 187ms/step - loss: 0.1966 - accuracy: 0.9257 - val_loss: 0.0870 - val_accuracy: 0.9688\n",
      "Epoch 16/100\n",
      "506/506 [==============================] - 85s 168ms/step - loss: 0.1865 - accuracy: 0.9300 - val_loss: 0.0913 - val_accuracy: 0.9619\n",
      "Epoch 17/100\n",
      "506/506 [==============================] - 90s 178ms/step - loss: 0.1911 - accuracy: 0.9277 - val_loss: 0.0840 - val_accuracy: 0.9644\n",
      "Epoch 18/100\n",
      "506/506 [==============================] - 86s 170ms/step - loss: 0.1703 - accuracy: 0.9379 - val_loss: 0.0718 - val_accuracy: 0.9676\n",
      "Epoch 19/100\n",
      "506/506 [==============================] - 84s 166ms/step - loss: 0.1582 - accuracy: 0.9433 - val_loss: 0.0735 - val_accuracy: 0.9708\n",
      "Epoch 20/100\n",
      "506/506 [==============================] - 84s 166ms/step - loss: 0.1568 - accuracy: 0.9460 - val_loss: 0.0635 - val_accuracy: 0.9713\n",
      "Epoch 21/100\n",
      "506/506 [==============================] - 88s 173ms/step - loss: 0.1484 - accuracy: 0.9465 - val_loss: 0.0697 - val_accuracy: 0.9708\n",
      "Epoch 22/100\n",
      "506/506 [==============================] - 93s 184ms/step - loss: 0.1430 - accuracy: 0.9503 - val_loss: 0.0750 - val_accuracy: 0.9669\n",
      "Epoch 23/100\n",
      "506/506 [==============================] - 84s 166ms/step - loss: 0.1485 - accuracy: 0.9473 - val_loss: 0.0658 - val_accuracy: 0.9721\n",
      "Epoch 24/100\n",
      "506/506 [==============================] - 83s 164ms/step - loss: 0.1367 - accuracy: 0.9519 - val_loss: 0.0649 - val_accuracy: 0.9738\n",
      "Epoch 25/100\n",
      "506/506 [==============================] - 88s 173ms/step - loss: 0.1246 - accuracy: 0.9584 - val_loss: 0.0795 - val_accuracy: 0.9721\n",
      "Epoch 26/100\n",
      "506/506 [==============================] - 86s 171ms/step - loss: 0.1246 - accuracy: 0.9569 - val_loss: 0.0436 - val_accuracy: 0.9847\n",
      "Epoch 27/100\n",
      "506/506 [==============================] - 83s 163ms/step - loss: 0.1260 - accuracy: 0.9552 - val_loss: 0.0613 - val_accuracy: 0.9775\n",
      "Epoch 28/100\n",
      "506/506 [==============================] - 86s 170ms/step - loss: 0.1151 - accuracy: 0.9596 - val_loss: 0.0515 - val_accuracy: 0.9770\n",
      "Epoch 29/100\n",
      "506/506 [==============================] - 81s 160ms/step - loss: 0.1178 - accuracy: 0.9610 - val_loss: 0.0493 - val_accuracy: 0.9829\n",
      "Epoch 30/100\n",
      "506/506 [==============================] - 76s 150ms/step - loss: 0.1102 - accuracy: 0.9618 - val_loss: 0.0444 - val_accuracy: 0.9824\n",
      "Epoch 31/100\n",
      "506/506 [==============================] - 77s 153ms/step - loss: 0.1210 - accuracy: 0.9575 - val_loss: 0.0696 - val_accuracy: 0.9738\n",
      "Epoch 32/100\n",
      "506/506 [==============================] - 75s 148ms/step - loss: 0.1045 - accuracy: 0.9627 - val_loss: 0.0445 - val_accuracy: 0.9824\n",
      "Epoch 33/100\n",
      "506/506 [==============================] - 78s 154ms/step - loss: 0.1105 - accuracy: 0.9644 - val_loss: 0.0408 - val_accuracy: 0.9862\n",
      "Epoch 34/100\n",
      "506/506 [==============================] - 83s 164ms/step - loss: 0.0937 - accuracy: 0.9677 - val_loss: 0.0380 - val_accuracy: 0.9869\n",
      "Epoch 35/100\n",
      "506/506 [==============================] - 83s 165ms/step - loss: 0.0968 - accuracy: 0.9674 - val_loss: 0.0488 - val_accuracy: 0.9834\n",
      "Epoch 36/100\n",
      "506/506 [==============================] - 79s 156ms/step - loss: 0.0928 - accuracy: 0.9691 - val_loss: 0.0351 - val_accuracy: 0.9871\n",
      "Epoch 37/100\n",
      "506/506 [==============================] - 80s 158ms/step - loss: 0.1063 - accuracy: 0.9665 - val_loss: 0.0411 - val_accuracy: 0.9847\n",
      "Epoch 38/100\n",
      "506/506 [==============================] - 81s 159ms/step - loss: 0.0924 - accuracy: 0.9696 - val_loss: 0.0428 - val_accuracy: 0.9849\n",
      "Epoch 39/100\n",
      "506/506 [==============================] - 81s 161ms/step - loss: 0.0900 - accuracy: 0.9698 - val_loss: 0.0521 - val_accuracy: 0.9819\n",
      "Epoch 40/100\n",
      "506/506 [==============================] - 91s 179ms/step - loss: 0.0980 - accuracy: 0.9695 - val_loss: 0.0295 - val_accuracy: 0.9906\n",
      "Epoch 41/100\n",
      "506/506 [==============================] - 83s 164ms/step - loss: 0.0921 - accuracy: 0.9709 - val_loss: 0.0393 - val_accuracy: 0.9869\n",
      "Epoch 42/100\n",
      "506/506 [==============================] - 79s 156ms/step - loss: 0.0941 - accuracy: 0.9700 - val_loss: 0.0396 - val_accuracy: 0.9866\n",
      "Epoch 43/100\n",
      "506/506 [==============================] - 81s 160ms/step - loss: 0.0919 - accuracy: 0.9704 - val_loss: 0.0420 - val_accuracy: 0.9854\n",
      "Epoch 44/100\n",
      "506/506 [==============================] - 80s 157ms/step - loss: 0.0875 - accuracy: 0.9724 - val_loss: 0.0437 - val_accuracy: 0.9859\n",
      "Epoch 45/100\n",
      "506/506 [==============================] - 80s 159ms/step - loss: 0.0890 - accuracy: 0.9712 - val_loss: 0.0305 - val_accuracy: 0.9901\n",
      "Epoch 46/100\n",
      "506/506 [==============================] - 80s 157ms/step - loss: 0.0880 - accuracy: 0.9717 - val_loss: 0.0543 - val_accuracy: 0.9827\n",
      "Epoch 47/100\n",
      "506/506 [==============================] - 79s 156ms/step - loss: 0.0817 - accuracy: 0.9731 - val_loss: 0.0303 - val_accuracy: 0.9891\n",
      "Epoch 48/100\n",
      "506/506 [==============================] - 81s 161ms/step - loss: 0.0763 - accuracy: 0.9756 - val_loss: 0.0366 - val_accuracy: 0.9884\n",
      "Epoch 49/100\n",
      "506/506 [==============================] - 79s 156ms/step - loss: 0.0829 - accuracy: 0.9745 - val_loss: 0.0341 - val_accuracy: 0.9871\n",
      "Epoch 50/100\n",
      "506/506 [==============================] - 79s 156ms/step - loss: 0.0739 - accuracy: 0.9759 - val_loss: 0.0468 - val_accuracy: 0.9847\n",
      "Epoch 51/100\n",
      "506/506 [==============================] - 80s 158ms/step - loss: 0.0822 - accuracy: 0.9729 - val_loss: 0.0450 - val_accuracy: 0.9859\n",
      "Epoch 52/100\n",
      "506/506 [==============================] - 90s 177ms/step - loss: 0.0785 - accuracy: 0.9743 - val_loss: 0.0365 - val_accuracy: 0.9879\n",
      "Epoch 53/100\n",
      "506/506 [==============================] - 83s 164ms/step - loss: 0.0818 - accuracy: 0.9752 - val_loss: 0.0287 - val_accuracy: 0.9901\n",
      "Epoch 54/100\n",
      "506/506 [==============================] - 97s 192ms/step - loss: 0.0789 - accuracy: 0.9763 - val_loss: 0.0250 - val_accuracy: 0.9916\n",
      "Epoch 55/100\n",
      "506/506 [==============================] - 81s 160ms/step - loss: 0.0818 - accuracy: 0.9727 - val_loss: 0.0285 - val_accuracy: 0.9901\n",
      "Epoch 56/100\n",
      "506/506 [==============================] - 87s 173ms/step - loss: 0.0675 - accuracy: 0.9776 - val_loss: 0.0275 - val_accuracy: 0.9906\n"
     ]
    },
    {
     "name": "stdout",
     "output_type": "stream",
     "text": [
      "Epoch 57/100\n",
      "506/506 [==============================] - 84s 166ms/step - loss: 0.0566 - accuracy: 0.9798 - val_loss: 0.0344 - val_accuracy: 0.9886\n",
      "Epoch 58/100\n",
      "506/506 [==============================] - 84s 166ms/step - loss: 0.0705 - accuracy: 0.9782 - val_loss: 0.0292 - val_accuracy: 0.9909\n",
      "Epoch 59/100\n",
      "506/506 [==============================] - 78s 155ms/step - loss: 0.0702 - accuracy: 0.9785 - val_loss: 0.0309 - val_accuracy: 0.9916\n",
      "Epoch 60/100\n",
      "506/506 [==============================] - 78s 154ms/step - loss: 0.0771 - accuracy: 0.9755 - val_loss: 0.0313 - val_accuracy: 0.9913\n",
      "Epoch 61/100\n",
      "506/506 [==============================] - 80s 158ms/step - loss: 0.0684 - accuracy: 0.9767 - val_loss: 0.0293 - val_accuracy: 0.9906\n",
      "Epoch 62/100\n",
      "506/506 [==============================] - 79s 156ms/step - loss: 0.0722 - accuracy: 0.9777 - val_loss: 0.0291 - val_accuracy: 0.9896\n",
      "Epoch 63/100\n",
      "506/506 [==============================] - 79s 156ms/step - loss: 0.0682 - accuracy: 0.9787 - val_loss: 0.0266 - val_accuracy: 0.9906\n",
      "Epoch 64/100\n",
      "506/506 [==============================] - 83s 165ms/step - loss: 0.0583 - accuracy: 0.9820 - val_loss: 0.0322 - val_accuracy: 0.9901\n",
      "Epoch 65/100\n",
      "506/506 [==============================] - 86s 171ms/step - loss: 0.0768 - accuracy: 0.9766 - val_loss: 0.0210 - val_accuracy: 0.9936\n",
      "Epoch 66/100\n",
      "506/506 [==============================] - 78s 154ms/step - loss: 0.0757 - accuracy: 0.9766 - val_loss: 0.0365 - val_accuracy: 0.9876\n",
      "Epoch 67/100\n",
      "506/506 [==============================] - 93s 184ms/step - loss: 0.0610 - accuracy: 0.9806 - val_loss: 0.0375 - val_accuracy: 0.9879\n",
      "Epoch 68/100\n",
      "506/506 [==============================] - 87s 173ms/step - loss: 0.0789 - accuracy: 0.9761 - val_loss: 0.0242 - val_accuracy: 0.9918\n",
      "Epoch 69/100\n",
      "506/506 [==============================] - 91s 180ms/step - loss: 0.0580 - accuracy: 0.9806 - val_loss: 0.0259 - val_accuracy: 0.9918\n",
      "Epoch 70/100\n",
      "506/506 [==============================] - 80s 158ms/step - loss: 0.0671 - accuracy: 0.9795 - val_loss: 0.0235 - val_accuracy: 0.9916\n",
      "Epoch 71/100\n",
      "506/506 [==============================] - 80s 157ms/step - loss: 0.0686 - accuracy: 0.9786 - val_loss: 0.0209 - val_accuracy: 0.9933\n",
      "Epoch 72/100\n",
      "506/506 [==============================] - 81s 161ms/step - loss: 0.0515 - accuracy: 0.9829 - val_loss: 0.0201 - val_accuracy: 0.9921\n",
      "Epoch 73/100\n",
      "506/506 [==============================] - 98s 194ms/step - loss: 0.0772 - accuracy: 0.9769 - val_loss: 0.0210 - val_accuracy: 0.9916\n",
      "Epoch 74/100\n",
      "506/506 [==============================] - 91s 179ms/step - loss: 0.0587 - accuracy: 0.9826 - val_loss: 0.0174 - val_accuracy: 0.9941\n",
      "Epoch 75/100\n",
      "506/506 [==============================] - 96s 190ms/step - loss: 0.0660 - accuracy: 0.9803 - val_loss: 0.0158 - val_accuracy: 0.9948\n",
      "Epoch 76/100\n",
      "506/506 [==============================] - 97s 192ms/step - loss: 0.0520 - accuracy: 0.9842 - val_loss: 0.0273 - val_accuracy: 0.9916\n",
      "Epoch 77/100\n",
      "506/506 [==============================] - 95s 187ms/step - loss: 0.0603 - accuracy: 0.9814 - val_loss: 0.0253 - val_accuracy: 0.9913\n",
      "Epoch 78/100\n",
      "506/506 [==============================] - 115s 227ms/step - loss: 0.0655 - accuracy: 0.9793 - val_loss: 0.0215 - val_accuracy: 0.9928\n",
      "Epoch 79/100\n",
      "506/506 [==============================] - 92s 182ms/step - loss: 0.0720 - accuracy: 0.9785 - val_loss: 0.0149 - val_accuracy: 0.9948\n",
      "Epoch 80/100\n",
      "506/506 [==============================] - 86s 170ms/step - loss: 0.0566 - accuracy: 0.9839 - val_loss: 0.0222 - val_accuracy: 0.9931\n",
      "Epoch 81/100\n",
      "506/506 [==============================] - 82s 163ms/step - loss: 0.0538 - accuracy: 0.9844 - val_loss: 0.0212 - val_accuracy: 0.9933\n",
      "Epoch 82/100\n",
      "506/506 [==============================] - 80s 157ms/step - loss: 0.0592 - accuracy: 0.9818 - val_loss: 0.0265 - val_accuracy: 0.9879\n",
      "Epoch 83/100\n",
      "506/506 [==============================] - 77s 153ms/step - loss: 0.0791 - accuracy: 0.9776 - val_loss: 0.0371 - val_accuracy: 0.9889\n",
      "Epoch 84/100\n",
      "506/506 [==============================] - 89s 177ms/step - loss: 0.0623 - accuracy: 0.9811 - val_loss: 0.0333 - val_accuracy: 0.9884\n",
      "Epoch 85/100\n",
      "506/506 [==============================] - 90s 177ms/step - loss: 0.0535 - accuracy: 0.9832 - val_loss: 0.0265 - val_accuracy: 0.9899\n",
      "Epoch 86/100\n",
      "506/506 [==============================] - 81s 159ms/step - loss: 0.0678 - accuracy: 0.9797 - val_loss: 0.0313 - val_accuracy: 0.9891\n",
      "Epoch 87/100\n",
      "506/506 [==============================] - 81s 159ms/step - loss: 0.0620 - accuracy: 0.9823 - val_loss: 0.0207 - val_accuracy: 0.9923\n",
      "Epoch 88/100\n",
      "506/506 [==============================] - 81s 159ms/step - loss: 0.0598 - accuracy: 0.9831 - val_loss: 0.0243 - val_accuracy: 0.9931\n",
      "Epoch 89/100\n",
      "506/506 [==============================] - 80s 157ms/step - loss: 0.0463 - accuracy: 0.9861 - val_loss: 0.0234 - val_accuracy: 0.9921\n",
      "Epoch 90/100\n",
      "506/506 [==============================] - 80s 158ms/step - loss: 0.0582 - accuracy: 0.9833 - val_loss: 0.0418 - val_accuracy: 0.9859\n",
      "Epoch 91/100\n",
      "506/506 [==============================] - 80s 157ms/step - loss: 0.0645 - accuracy: 0.9810 - val_loss: 0.0166 - val_accuracy: 0.9926\n",
      "Epoch 92/100\n",
      "506/506 [==============================] - 80s 158ms/step - loss: 0.0573 - accuracy: 0.9829 - val_loss: 0.0178 - val_accuracy: 0.9918\n",
      "Epoch 93/100\n",
      "506/506 [==============================] - 81s 160ms/step - loss: 0.0602 - accuracy: 0.9817 - val_loss: 0.0255 - val_accuracy: 0.9913\n",
      "Epoch 94/100\n",
      "506/506 [==============================] - 83s 163ms/step - loss: 0.0618 - accuracy: 0.9819 - val_loss: 0.0161 - val_accuracy: 0.9946\n",
      "Epoch 95/100\n",
      "506/506 [==============================] - 84s 166ms/step - loss: 0.0512 - accuracy: 0.9839 - val_loss: 0.0170 - val_accuracy: 0.9936\n",
      "Epoch 96/100\n",
      "506/506 [==============================] - 79s 157ms/step - loss: 0.0569 - accuracy: 0.9829 - val_loss: 0.0185 - val_accuracy: 0.9946\n",
      "Epoch 97/100\n",
      "506/506 [==============================] - 79s 156ms/step - loss: 0.0591 - accuracy: 0.9830 - val_loss: 0.0226 - val_accuracy: 0.9933\n",
      "Epoch 98/100\n",
      "506/506 [==============================] - 80s 157ms/step - loss: 0.0555 - accuracy: 0.9845 - val_loss: 0.0223 - val_accuracy: 0.9941\n",
      "Epoch 99/100\n",
      "506/506 [==============================] - 80s 159ms/step - loss: 0.0583 - accuracy: 0.9829 - val_loss: 0.0242 - val_accuracy: 0.9909\n",
      "Epoch 100/100\n",
      "506/506 [==============================] - 79s 157ms/step - loss: 0.0570 - accuracy: 0.9824 - val_loss: 0.0211 - val_accuracy: 0.9928\n"
     ]
    }
   ],
   "source": [
    "history = model.fit(Xb_train, Yb_train, batch_size=32, epochs=100, validation_data = (Xb_val,Yb_val))"
   ]
  },
  {
   "cell_type": "code",
   "execution_count": 13,
   "metadata": {},
   "outputs": [
    {
     "name": "stdout",
     "output_type": "stream",
     "text": [
      "INFO:tensorflow:Assets written to: dataset without aug/assets\n"
     ]
    }
   ],
   "source": [
    "model.save(\"dataset without aug\")"
   ]
  },
  {
   "cell_type": "code",
   "execution_count": 15,
   "metadata": {},
   "outputs": [],
   "source": [
    "import pickle\n",
    "# save the history for plotting:\n",
    "f = open('history_data_withoutaug.pckl', 'wb')\n",
    "pickle.dump(history.history, f)\n",
    "f.close()"
   ]
  },
  {
   "cell_type": "code",
   "execution_count": 17,
   "metadata": {
    "scrolled": true
   },
   "outputs": [
    {
     "name": "stdout",
     "output_type": "stream",
     "text": [
      "159/159 [==============================] - 4s 26ms/step - loss: 0.0233 - accuracy: 0.9921\n"
     ]
    }
   ],
   "source": [
    "scores = model.evaluate(Xb_test, Yb_test)"
   ]
  },
  {
   "cell_type": "code",
   "execution_count": 16,
   "metadata": {},
   "outputs": [
    {
     "data": {
      "text/plain": [
       "<matplotlib.legend.Legend at 0x7fc61c659370>"
      ]
     },
     "execution_count": 16,
     "metadata": {},
     "output_type": "execute_result"
    },
    {
     "data": {
      "image/png": "[encoded data removed]",
      "text/plain": [
       "<Figure size 720x360 with 2 Axes>"
      ]
     },
     "metadata": {
      "needs_background": "light"
     },
     "output_type": "display_data"
    }
   ],
   "source": [
    "import matplotlib.pyplot as plt\n",
    "plt.figure(figsize=(10,5))\n",
    "#Plot accuracy vs epoch\n",
    "plt.subplot(121)\n",
    "x = np.arange(0, 100, 1)\n",
    "plt.plot(x, history.history['val_accuracy'],label='validation accuracy')\n",
    "plt.plot(x, history.history['accuracy'],label='train accuracy')\n",
    "plt.title(\"Accuracy without Data Augmentation\")\n",
    "plt.xlabel(\"epoch\")\n",
    "plt.ylabel(\"loss\")\n",
    "plt.legend()\n",
    "#### Fill in plot ####\n",
    "\n",
    "#Plot loss vs epoch\n",
    "plt.subplot(122)\n",
    "plt.plot(x, history.history['val_loss'],label='validation loss')\n",
    "plt.plot(x, history.history['loss'],label='train loss')\n",
    "plt.title(\"Loss without Data Augmentation\")\n",
    "plt.xlabel(\"epoch\")\n",
    "plt.ylabel(\"loss\")\n",
    "plt.legend()\n",
    "#### Fill in plot ####"
   ]
  },
  {
   "cell_type": "code",
   "execution_count": null,
   "metadata": {},
   "outputs": [],
   "source": []
  }
 ],
 "metadata": {
  "kernelspec": {
   "display_name": "Python 3",
   "language": "python",
   "name": "python3"
  },
  "language_info": {
   "codemirror_mode": {
    "name": "ipython",
    "version": 3
   },
   "file_extension": ".py",
   "mimetype": "text/x-python",
   "name": "python",
   "nbconvert_exporter": "python",
   "pygments_lexer": "ipython3",
   "version": "3.8.5"
  }
 },
 "nbformat": 4,
 "nbformat_minor": 4
}
