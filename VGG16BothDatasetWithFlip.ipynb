{
 "cells": [
  {
   "cell_type": "code",
   "execution_count": null,
   "id": "funky-recall",
   "metadata": {},
   "outputs": [],
   "source": [
    "# Code Reference\n",
    "# https://www.kaggle.com/paultimothymooney/interpret-sign-language-with-deep-learning/notebook\n",
    "# https://www.kaggle.com/ahmedkhanak1995/cnn-on-sign-language-gesture-images-dataset/data"
   ]
  },
  {
   "cell_type": "code",
   "execution_count": 1,
   "id": "critical-identification",
   "metadata": {},
   "outputs": [],
   "source": [
    "import numpy as np\n",
    "import tensorflow as tf\n",
    "from tensorflow.keras.layers import Conv2D, Dense, Flatten, Dropout, MaxPooling2D\n",
    "from tensorflow.keras.models import Sequential, save_model\n",
    "from tensorflow.keras.utils import to_categorical\n",
    "from tensorflow.keras.callbacks import ModelCheckpoint\n",
    "from sklearn.model_selection import train_test_split\n",
    "from sklearn.utils import shuffle\n",
    "import os\n",
    "import cv2"
   ]
  },
  {
   "cell_type": "code",
   "execution_count": 2,
   "id": "lesbian-surname",
   "metadata": {},
   "outputs": [],
   "source": [
    "# path=\"asl/asl\"\n",
    "# file_list = os.listdir(path)\n",
    "# for i in file_list:\n",
    "#     num=os.listdir(path+\"/\"+ i)\n",
    "#     print(i + \" data number:\"+str(len(num)))"
   ]
  },
  {
   "cell_type": "code",
   "execution_count": 3,
   "id": "organized-requirement",
   "metadata": {},
   "outputs": [],
   "source": [
    "# source_path = \"asl/asl\"\n",
    "# test_data_path = \"asl/test_asl/\"\n",
    "# files_dir = os.listdir(source_path)\n",
    "# import shutil\n",
    "# import numpy as np\n",
    "# for f_dir in files_dir:\n",
    "#     files=os.listdir(source_path + \"/\" + f_dir)\n",
    "#     for f in files:\n",
    "#         if np.random.rand(1) < 0.2:  # 8:2 \n",
    "#             path = test_data_path + '/'+ f_dir\n",
    "#             if not os.path.exists(path):\n",
    "#                 os.makedirs(path)\n",
    "#             shutil.move(source_path + '/'+ f_dir + \"/\" + f, path)"
   ]
  },
  {
   "cell_type": "code",
   "execution_count": 4,
   "id": "adverse-healing",
   "metadata": {},
   "outputs": [],
   "source": [
    "\n",
    "# source_path = \"GestureImageData\"\n",
    "# test_data_path = \"GestureImageData/test_gid\"\n",
    "# files_dir = os.listdir(source_path)\n",
    "# import shutil\n",
    "# import numpy as np\n",
    "# for f_dir in files_dir:\n",
    "#     files=os.listdir(source_path + \"/\" + f_dir)\n",
    "#     for f in files:\n",
    "#         if np.random.rand(1) < 0.2:  # 8:2 \n",
    "#             path = test_data_path + '/'+ f_dir\n",
    "#             if not os.path.exists(path):\n",
    "#                 os.makedirs(path)\n",
    "#             shutil.move(source_path + '/'+ f_dir + \"/\" + f, path)"
   ]
  },
  {
   "cell_type": "code",
   "execution_count": 5,
   "id": "stunning-tiger",
   "metadata": {},
   "outputs": [],
   "source": [
    "dict_labels = {\n",
    "    '0':1, '1':2, '2':3, '3':4, '4':5, '5':6, '6':7, '7':8, '8':9, '9':10,\n",
    "    'a':11, 'b':12, 'c':13, 'd':14, 'e':15, 'f':16, 'g':17, 'h':18, 'i':19,\n",
    "    'j':20, 'k':21, 'l':22, 'm':23, 'n':24, 'o':25, 'p':26, 'q':27, 'r':28,\n",
    "    's':29, 't':30, 'u':31, 'v':32, 'w':33, 'x':34, 'y':35, 'z':36, \n",
    "}"
   ]
  },
  {
   "cell_type": "code",
   "execution_count": 6,
   "id": "valid-milwaukee",
   "metadata": {},
   "outputs": [
    {
     "name": "stdout",
     "output_type": "stream",
     "text": [
      "r\n",
      "u\n",
      "9\n",
      "0\n",
      "7\n",
      "i\n",
      "n\n",
      "g\n",
      "6\n",
      "z\n",
      "1\n",
      "8\n",
      "t\n",
      "s\n",
      "a\n",
      "f\n",
      "o\n",
      "h\n",
      "m\n",
      "j\n",
      "c\n",
      "d\n",
      "v\n",
      "q\n",
      "4\n",
      "x\n",
      "3\n",
      "e\n",
      "b\n",
      "k\n",
      "l\n",
      "2\n",
      "y\n",
      "5\n",
      "p\n",
      "w\n"
     ]
    }
   ],
   "source": [
    "path = 'asl/asl'\n",
    "gestures = os.listdir(path)[1:]\n",
    "\n",
    "x = []\n",
    "y = []\n",
    "\n",
    "for ix in gestures:\n",
    "    images = os.listdir(path +'/'+ix)\n",
    "    print(ix)\n",
    "    for cx in images:\n",
    "        img_path = path+'/' +ix + '/' + cx\n",
    "        img = cv2.imread(img_path, 1)\n",
    "        img = cv2.resize(img, (50,50), interpolation = cv2.INTER_AREA)\n",
    "#         img = img.reshape((50,50,3))\n",
    "        x.append(img)\n",
    "        y.append(dict_labels[ix])\n",
    "        x.append(cv2.flip(img, 0));\n",
    "        y.append(dict_labels[ix])"
   ]
  },
  {
   "cell_type": "code",
   "execution_count": 7,
   "id": "minor-empty",
   "metadata": {},
   "outputs": [],
   "source": [
    "dict_labels_new = {\n",
    "    '0':1, '1':2, '2':3, '3':4, '4':5, '5':6, '6':7, '7':8, '8':9, '9':10,\n",
    "    'A':11, 'B':12, 'C':13, 'D':14, 'E':15, 'F':16, 'G':17, 'H':18, 'I':19,\n",
    "    'J':20, 'K':21, 'L':22, 'M':23, 'N':24, 'O':25, 'P':26, 'Q':27, 'R':28,\n",
    "    'S':29, 'T':30, 'U':31, 'V':32, 'W':33, 'X':34, 'Y':35, 'Z':36, \n",
    "}"
   ]
  },
  {
   "cell_type": "code",
   "execution_count": null,
   "id": "healthy-johnson",
   "metadata": {},
   "outputs": [],
   "source": []
  },
  {
   "cell_type": "code",
   "execution_count": 8,
   "id": "spare-removal",
   "metadata": {},
   "outputs": [
    {
     "name": "stdout",
     "output_type": "stream",
     "text": [
      "R\n",
      "U\n",
      "9\n",
      "0\n",
      "7\n",
      "I\n",
      "N\n",
      "G\n",
      "6\n",
      "Z\n",
      "1\n",
      "8\n",
      "T\n",
      "S\n",
      "A\n",
      "F\n",
      "O\n",
      "H\n",
      "M\n",
      "J\n",
      "C\n",
      "D\n",
      "V\n",
      "Q\n",
      "4\n",
      "X\n",
      "3\n",
      "E\n",
      "B\n",
      "K\n",
      "L\n",
      "2\n",
      "Y\n",
      "5\n",
      "P\n",
      "W\n"
     ]
    }
   ],
   "source": [
    "path = 'GestureImageData'\n",
    "gestures = os.listdir(path)[1:]\n",
    "\n",
    "for ix in gestures:\n",
    "    images = os.listdir(path +'/'+ix)\n",
    "    print(ix)\n",
    "    for cx in images:\n",
    "        img_path = path+'/' +ix + '/' + cx\n",
    "        img = cv2.imread(img_path, 1)\n",
    "#         img = cv2.resize(img, (50,50), interpolation = cv2.INTER_AREA)\n",
    "#         img = img.reshape((50,50,3))\n",
    "        if(img is None):\n",
    "            continue\n",
    "        x.append(img)\n",
    "        y.append(dict_labels_new[ix])\n",
    "        x.append(cv2.flip(img, 0));\n",
    "        y.append(dict_labels_new[ix])"
   ]
  },
  {
   "cell_type": "code",
   "execution_count": 9,
   "id": "moderate-notification",
   "metadata": {},
   "outputs": [],
   "source": [
    "Y = to_categorical(np.array(y))\n",
    "X = np.array(x)/255.0"
   ]
  },
  {
   "cell_type": "code",
   "execution_count": 10,
   "id": "canadian-turner",
   "metadata": {},
   "outputs": [
    {
     "data": {
      "text/plain": [
       "(126922, 50, 50, 3)"
      ]
     },
     "execution_count": 10,
     "metadata": {},
     "output_type": "execute_result"
    }
   ],
   "source": [
    "X.shape"
   ]
  },
  {
   "cell_type": "code",
   "execution_count": null,
   "id": "demonstrated-nirvana",
   "metadata": {},
   "outputs": [],
   "source": []
  },
  {
   "cell_type": "code",
   "execution_count": 11,
   "id": "round-mason",
   "metadata": {},
   "outputs": [
    {
     "name": "stdout",
     "output_type": "stream",
     "text": [
      "r\n",
      "u\n",
      "9\n",
      "0\n",
      "7\n",
      "i\n",
      "n\n",
      "g\n",
      "6\n",
      "z\n",
      "1\n",
      "8\n",
      "t\n",
      "s\n",
      "a\n",
      "f\n",
      "o\n",
      "h\n",
      "m\n",
      "j\n",
      "c\n",
      "d\n",
      "v\n",
      "q\n",
      "4\n",
      "x\n",
      "3\n",
      "e\n",
      "b\n",
      "k\n",
      "l\n",
      "2\n",
      "y\n",
      "5\n",
      "p\n",
      "w\n"
     ]
    }
   ],
   "source": [
    "x_test = []\n",
    "y_test = []\n",
    "\n",
    "path_test = 'asl/test_asl/'\n",
    "gestures_test = os.listdir(path_test)[1:]\n",
    "\n",
    "for ix in gestures_test:\n",
    "    images = os.listdir(path_test +ix)\n",
    "    print(ix)\n",
    "    for cx in images:\n",
    "        img_path = path_test+'/' +ix + '/' + cx\n",
    "        img = cv2.imread(img_path, 1)\n",
    "        img = cv2.resize(img, (50,50), interpolation = cv2.INTER_AREA)\n",
    "#         img = img.reshape((100,100,3))\n",
    "        x_test.append(img)\n",
    "        y_test.append(dict_labels[ix])\n",
    "        x_test.append(cv2.flip(img, 0))\n",
    "        y_test.append(dict_labels[ix])"
   ]
  },
  {
   "cell_type": "code",
   "execution_count": 13,
   "id": "posted-student",
   "metadata": {},
   "outputs": [
    {
     "name": "stdout",
     "output_type": "stream",
     "text": [
      "R\n",
      "U\n",
      "9\n",
      "0\n",
      "7\n",
      "I\n",
      "N\n",
      "G\n",
      "6\n",
      "Z\n",
      "1\n",
      "8\n",
      "T\n",
      "S\n",
      "A\n",
      "F\n",
      "O\n",
      "H\n",
      "M\n",
      "J\n",
      "C\n",
      "D\n",
      "V\n",
      "Q\n",
      "4\n",
      "X\n",
      "3\n",
      "E\n",
      "B\n",
      "K\n",
      "L\n",
      "2\n",
      "Y\n",
      "5\n",
      "P\n",
      "W\n"
     ]
    }
   ],
   "source": [
    "path_test = 'test_gid'\n",
    "gestures_test = os.listdir(path_test)[1:]\n",
    "\n",
    "for ix in gestures_test:\n",
    "    images = os.listdir(path_test +'/'+ix)\n",
    "    print(ix)\n",
    "    for cx in images:\n",
    "        img_path = path_test+'/' +ix + '/' + cx\n",
    "        img = cv2.imread(img_path, 1)\n",
    "#         img = cv2.resize(img, (50,50), interpolation = cv2.INTER_AREA)\n",
    "#         img = img.reshape((100,100,3))\n",
    "\n",
    "        if(img is None):\n",
    "            continue\n",
    "            \n",
    "        x_test.append(img)\n",
    "        y_test.append(dict_labels_new[ix])\n",
    "        x_test.append(cv2.flip(img, 0))\n",
    "        y_test.append(dict_labels_new[ix])"
   ]
  },
  {
   "cell_type": "code",
   "execution_count": 14,
   "id": "sunset-tradition",
   "metadata": {},
   "outputs": [],
   "source": [
    "Y_test = to_categorical(np.array(y_test))\n",
    "X_test = np.array(x_test)/255.0\n"
   ]
  },
  {
   "cell_type": "code",
   "execution_count": 15,
   "id": "swiss-stations",
   "metadata": {},
   "outputs": [
    {
     "data": {
      "text/plain": [
       "(31660, 37)"
      ]
     },
     "execution_count": 15,
     "metadata": {},
     "output_type": "execute_result"
    }
   ],
   "source": [
    "Y_test.shape"
   ]
  },
  {
   "cell_type": "code",
   "execution_count": 16,
   "id": "inclusive-portuguese",
   "metadata": {},
   "outputs": [
    {
     "data": {
      "text/plain": [
       "(31660, 50, 50, 3)"
      ]
     },
     "execution_count": 16,
     "metadata": {},
     "output_type": "execute_result"
    }
   ],
   "source": [
    "X_test.shape"
   ]
  },
  {
   "cell_type": "code",
   "execution_count": 17,
   "id": "acoustic-miami",
   "metadata": {},
   "outputs": [
    {
     "data": {
      "text/plain": [
       "(126922, 50, 50, 3)"
      ]
     },
     "execution_count": 17,
     "metadata": {},
     "output_type": "execute_result"
    }
   ],
   "source": [
    "X.shape"
   ]
  },
  {
   "cell_type": "code",
   "execution_count": 18,
   "id": "residential-caribbean",
   "metadata": {},
   "outputs": [
    {
     "data": {
      "text/plain": [
       "(126922, 37)"
      ]
     },
     "execution_count": 18,
     "metadata": {},
     "output_type": "execute_result"
    }
   ],
   "source": [
    "Y.shape"
   ]
  },
  {
   "cell_type": "code",
   "execution_count": 19,
   "id": "tender-cycling",
   "metadata": {},
   "outputs": [],
   "source": [
    "X_train, X_val, Y_train, Y_val = train_test_split(X, Y, test_size=0.2,shuffle=True)"
   ]
  },
  {
   "cell_type": "code",
   "execution_count": 20,
   "id": "sensitive-stranger",
   "metadata": {},
   "outputs": [
    {
     "data": {
      "text/plain": [
       "(101537, 50, 50, 3)"
      ]
     },
     "execution_count": 20,
     "metadata": {},
     "output_type": "execute_result"
    }
   ],
   "source": [
    "X_train.shape"
   ]
  },
  {
   "cell_type": "code",
   "execution_count": 21,
   "id": "resistant-huntington",
   "metadata": {
    "collapsed": true,
    "jupyter": {
     "outputs_hidden": true
    }
   },
   "outputs": [
    {
     "name": "stdout",
     "output_type": "stream",
     "text": [
      "Model: \"model_2\"\n",
      "_________________________________________________________________\n",
      "Layer (type)                 Output Shape              Param #   \n",
      "=================================================================\n",
      "input_3 (InputLayer)         [(None, 50, 50, 3)]       0         \n",
      "_________________________________________________________________\n",
      "block1_conv1 (Conv2D)        (None, 50, 50, 64)        1792      \n",
      "_________________________________________________________________\n",
      "block1_conv2 (Conv2D)        (None, 50, 50, 64)        36928     \n",
      "_________________________________________________________________\n",
      "block1_pool (MaxPooling2D)   (None, 25, 25, 64)        0         \n",
      "_________________________________________________________________\n",
      "block2_conv1 (Conv2D)        (None, 25, 25, 128)       73856     \n",
      "_________________________________________________________________\n",
      "block2_conv2 (Conv2D)        (None, 25, 25, 128)       147584    \n",
      "_________________________________________________________________\n",
      "block2_pool (MaxPooling2D)   (None, 12, 12, 128)       0         \n",
      "_________________________________________________________________\n",
      "block3_conv1 (Conv2D)        (None, 12, 12, 256)       295168    \n",
      "_________________________________________________________________\n",
      "block3_conv2 (Conv2D)        (None, 12, 12, 256)       590080    \n",
      "_________________________________________________________________\n",
      "block3_conv3 (Conv2D)        (None, 12, 12, 256)       590080    \n",
      "_________________________________________________________________\n",
      "block3_pool (MaxPooling2D)   (None, 6, 6, 256)         0         \n",
      "_________________________________________________________________\n",
      "block4_conv1 (Conv2D)        (None, 6, 6, 512)         1180160   \n",
      "_________________________________________________________________\n",
      "block4_conv2 (Conv2D)        (None, 6, 6, 512)         2359808   \n",
      "_________________________________________________________________\n",
      "block4_conv3 (Conv2D)        (None, 6, 6, 512)         2359808   \n",
      "_________________________________________________________________\n",
      "block4_pool (MaxPooling2D)   (None, 3, 3, 512)         0         \n",
      "_________________________________________________________________\n",
      "block5_conv1 (Conv2D)        (None, 3, 3, 512)         2359808   \n",
      "_________________________________________________________________\n",
      "block5_conv2 (Conv2D)        (None, 3, 3, 512)         2359808   \n",
      "_________________________________________________________________\n",
      "block5_conv3 (Conv2D)        (None, 3, 3, 512)         2359808   \n",
      "_________________________________________________________________\n",
      "block5_pool (MaxPooling2D)   (None, 1, 1, 512)         0         \n",
      "_________________________________________________________________\n",
      "flatten_2 (Flatten)          (None, 512)               0         \n",
      "_________________________________________________________________\n",
      "dense_2 (Dense)              (None, 37)                18981     \n",
      "=================================================================\n",
      "Total params: 14,733,669\n",
      "Trainable params: 18,981\n",
      "Non-trainable params: 14,714,688\n",
      "_________________________________________________________________\n",
      "Epoch 1/50\n",
      "1587/1587 [==============================] - 862s 543ms/step - loss: 1.1057 - accuracy: 0.7838 - val_loss: 0.5504 - val_accuracy: 0.8807\n",
      "Epoch 2/50\n",
      "1587/1587 [==============================] - 779s 491ms/step - loss: 0.4279 - accuracy: 0.9031 - val_loss: 0.3504 - val_accuracy: 0.9177\n",
      "Epoch 3/50\n",
      "1587/1587 [==============================] - 763s 481ms/step - loss: 0.2975 - accuracy: 0.9286 - val_loss: 0.2663 - val_accuracy: 0.9336\n",
      "Epoch 4/50\n",
      "1587/1587 [==============================] - 1103s 695ms/step - loss: 0.2321 - accuracy: 0.9429 - val_loss: 0.2194 - val_accuracy: 0.9417\n",
      "Epoch 5/50\n",
      "1587/1587 [==============================] - 1119s 705ms/step - loss: 0.1919 - accuracy: 0.9528 - val_loss: 0.1859 - val_accuracy: 0.9510\n",
      "Epoch 6/50\n",
      "1587/1587 [==============================] - 1103s 695ms/step - loss: 0.1645 - accuracy: 0.9594 - val_loss: 0.1651 - val_accuracy: 0.9570\n",
      "Epoch 7/50\n",
      "1587/1587 [==============================] - 1073s 676ms/step - loss: 0.1446 - accuracy: 0.9641 - val_loss: 0.1479 - val_accuracy: 0.9604\n",
      "Epoch 8/50\n",
      "1587/1587 [==============================] - 1077s 679ms/step - loss: 0.1294 - accuracy: 0.9687 - val_loss: 0.1349 - val_accuracy: 0.9644\n",
      "Epoch 9/50\n",
      "1587/1587 [==============================] - 1129s 711ms/step - loss: 0.1175 - accuracy: 0.9712 - val_loss: 0.1240 - val_accuracy: 0.9667\n",
      "Epoch 10/50\n",
      "1587/1587 [==============================] - 1112s 701ms/step - loss: 0.1078 - accuracy: 0.9737 - val_loss: 0.1150 - val_accuracy: 0.9697\n",
      "Epoch 11/50\n",
      "1587/1587 [==============================] - 1087s 685ms/step - loss: 0.0995 - accuracy: 0.9760 - val_loss: 0.1093 - val_accuracy: 0.9705\n",
      "Epoch 12/50\n",
      "1587/1587 [==============================] - 1080s 680ms/step - loss: 0.0928 - accuracy: 0.9777 - val_loss: 0.1031 - val_accuracy: 0.9714\n",
      "Epoch 13/50\n",
      "1587/1587 [==============================] - 1078s 680ms/step - loss: 0.0867 - accuracy: 0.9796 - val_loss: 0.0966 - val_accuracy: 0.9742\n",
      "Epoch 14/50\n",
      "1587/1587 [==============================] - 1091s 688ms/step - loss: 0.0815 - accuracy: 0.9807 - val_loss: 0.0914 - val_accuracy: 0.9754\n",
      "Epoch 15/50\n",
      "1587/1587 [==============================] - 1085s 684ms/step - loss: 0.0770 - accuracy: 0.9818 - val_loss: 0.0883 - val_accuracy: 0.9754\n",
      "Epoch 16/50\n",
      "1587/1587 [==============================] - 1081s 681ms/step - loss: 0.0732 - accuracy: 0.9826 - val_loss: 0.0839 - val_accuracy: 0.9768\n",
      "Epoch 17/50\n",
      "1587/1587 [==============================] - 1084s 683ms/step - loss: 0.0696 - accuracy: 0.9839 - val_loss: 0.0804 - val_accuracy: 0.9774\n",
      "Epoch 18/50\n",
      "1587/1587 [==============================] - 1081s 681ms/step - loss: 0.0664 - accuracy: 0.9842 - val_loss: 0.0787 - val_accuracy: 0.9782\n",
      "Epoch 19/50\n",
      "1587/1587 [==============================] - 1045s 658ms/step - loss: 0.0635 - accuracy: 0.9855 - val_loss: 0.0753 - val_accuracy: 0.9785\n",
      "Epoch 20/50\n",
      "1587/1587 [==============================] - 1037s 653ms/step - loss: 0.0610 - accuracy: 0.9860 - val_loss: 0.0728 - val_accuracy: 0.9796\n",
      "Epoch 21/50\n",
      "1587/1587 [==============================] - 1044s 658ms/step - loss: 0.0586 - accuracy: 0.9867 - val_loss: 0.0696 - val_accuracy: 0.9808\n",
      "Epoch 22/50\n",
      "1587/1587 [==============================] - 1031s 650ms/step - loss: 0.0564 - accuracy: 0.9870 - val_loss: 0.0689 - val_accuracy: 0.9798\n",
      "Epoch 23/50\n",
      "1587/1587 [==============================] - 1041s 656ms/step - loss: 0.0545 - accuracy: 0.9873 - val_loss: 0.0674 - val_accuracy: 0.9809\n",
      "Epoch 24/50\n",
      "1587/1587 [==============================] - 1052s 663ms/step - loss: 0.0525 - accuracy: 0.9880 - val_loss: 0.0654 - val_accuracy: 0.9811\n",
      "Epoch 25/50\n",
      "1587/1587 [==============================] - 1044s 658ms/step - loss: 0.0508 - accuracy: 0.9886 - val_loss: 0.0621 - val_accuracy: 0.9825\n",
      "Epoch 26/50\n",
      "1587/1587 [==============================] - 1046s 659ms/step - loss: 0.0493 - accuracy: 0.9891 - val_loss: 0.0622 - val_accuracy: 0.9819\n",
      "Epoch 27/50\n",
      "1587/1587 [==============================] - 1037s 653ms/step - loss: 0.0477 - accuracy: 0.9893 - val_loss: 0.0597 - val_accuracy: 0.9826\n",
      "Epoch 28/50\n",
      "1587/1587 [==============================] - 1058s 667ms/step - loss: 0.0462 - accuracy: 0.9899 - val_loss: 0.0588 - val_accuracy: 0.9823\n",
      "Epoch 29/50\n",
      "1587/1587 [==============================] - 1062s 669ms/step - loss: 0.0449 - accuracy: 0.9900 - val_loss: 0.0574 - val_accuracy: 0.9833\n",
      "Epoch 30/50\n",
      "1587/1587 [==============================] - 1072s 675ms/step - loss: 0.0436 - accuracy: 0.9902 - val_loss: 0.0561 - val_accuracy: 0.9837\n",
      "Epoch 31/50\n",
      "1587/1587 [==============================] - 1049s 661ms/step - loss: 0.0425 - accuracy: 0.9903 - val_loss: 0.0556 - val_accuracy: 0.9836\n",
      "Epoch 32/50\n",
      "1587/1587 [==============================] - 1054s 664ms/step - loss: 0.0415 - accuracy: 0.9907 - val_loss: 0.0550 - val_accuracy: 0.9836\n",
      "Epoch 33/50\n",
      "1587/1587 [==============================] - 1041s 656ms/step - loss: 0.0403 - accuracy: 0.9911 - val_loss: 0.0535 - val_accuracy: 0.9849\n",
      "Epoch 34/50\n",
      "1587/1587 [==============================] - 1039s 655ms/step - loss: 0.0394 - accuracy: 0.9910 - val_loss: 0.0516 - val_accuracy: 0.9851\n",
      "Epoch 35/50\n",
      "1587/1587 [==============================] - 1049s 661ms/step - loss: 0.0385 - accuracy: 0.9914 - val_loss: 0.0513 - val_accuracy: 0.9850\n",
      "Epoch 36/50\n",
      "1587/1587 [==============================] - 1051s 662ms/step - loss: 0.0376 - accuracy: 0.9916 - val_loss: 0.0508 - val_accuracy: 0.9848\n",
      "Epoch 37/50\n",
      "1587/1587 [==============================] - 1054s 664ms/step - loss: 0.0366 - accuracy: 0.9921 - val_loss: 0.0500 - val_accuracy: 0.9849\n",
      "Epoch 38/50\n",
      "1587/1587 [==============================] - 1066s 672ms/step - loss: 0.0357 - accuracy: 0.9923 - val_loss: 0.0491 - val_accuracy: 0.9854\n",
      "Epoch 39/50\n",
      "1587/1587 [==============================] - 1064s 671ms/step - loss: 0.0350 - accuracy: 0.9925 - val_loss: 0.0480 - val_accuracy: 0.9859\n",
      "Epoch 40/50\n",
      "1587/1587 [==============================] - 843s 531ms/step - loss: 0.0343 - accuracy: 0.9924 - val_loss: 0.0493 - val_accuracy: 0.9842\n",
      "Epoch 41/50\n",
      "1587/1587 [==============================] - 724s 456ms/step - loss: 0.0336 - accuracy: 0.9927 - val_loss: 0.0472 - val_accuracy: 0.9857\n",
      "Epoch 42/50\n",
      "1587/1587 [==============================] - 956s 602ms/step - loss: 0.0329 - accuracy: 0.9928 - val_loss: 0.0464 - val_accuracy: 0.9867\n",
      "Epoch 43/50\n",
      "1587/1587 [==============================] - 780s 492ms/step - loss: 0.0323 - accuracy: 0.9927 - val_loss: 0.0467 - val_accuracy: 0.9856\n",
      "Epoch 44/50\n",
      "1587/1587 [==============================] - 756s 476ms/step - loss: 0.0317 - accuracy: 0.9930 - val_loss: 0.0460 - val_accuracy: 0.9854\n",
      "Epoch 45/50\n",
      "1587/1587 [==============================] - 752s 474ms/step - loss: 0.0311 - accuracy: 0.9929 - val_loss: 0.0448 - val_accuracy: 0.9867\n",
      "Epoch 46/50\n",
      "1587/1587 [==============================] - 794s 500ms/step - loss: 0.0305 - accuracy: 0.9936 - val_loss: 0.0432 - val_accuracy: 0.9870\n",
      "Epoch 47/50\n",
      "1587/1587 [==============================] - 766s 482ms/step - loss: 0.0300 - accuracy: 0.9934 - val_loss: 0.0436 - val_accuracy: 0.9867\n",
      "Epoch 48/50\n",
      "1587/1587 [==============================] - 807s 509ms/step - loss: 0.0294 - accuracy: 0.9937 - val_loss: 0.0424 - val_accuracy: 0.9872\n",
      "Epoch 49/50\n",
      "1587/1587 [==============================] - 883s 556ms/step - loss: 0.0289 - accuracy: 0.9936 - val_loss: 0.0426 - val_accuracy: 0.9863\n",
      "Epoch 50/50\n",
      "1587/1587 [==============================] - 837s 527ms/step - loss: 0.0284 - accuracy: 0.9938 - val_loss: 0.0423 - val_accuracy: 0.9868\n",
      "\n",
      "Keras CNN - accuracy: 0.9867674708366394 \n",
      "\n"
     ]
    }
   ],
   "source": [
    "import keras\n",
    "from keras.applications.vgg16 import VGG16\n",
    "from sklearn.utils import class_weight\n",
    "from keras import models, layers, optimizers\n",
    "from keras.models import Model\n",
    "import sklearn\n",
    "\n",
    "class_weight1 = class_weight.compute_class_weight('balanced', np.unique(y), y)\n",
    "weight_path1 = 'vgg16_weights_tf_dim_ordering_tf_kernels_notop.h5'\n",
    "pretrained_model_1 = VGG16(weights = weight_path1, include_top=False, input_shape=(50, 50, 3))\n",
    "\n",
    "def pretrainedNetwork(xtrain,ytrain,xtest,ytest,pretrainedmodel,pretrainedweights,classweight,numclasses,numepochs,labels):\n",
    "    base_model = pretrained_model_1 # Topless\n",
    "    # Add top layer\n",
    "    x = base_model.output\n",
    "    x = Flatten()(x)\n",
    "    predictions = Dense(numclasses, activation='softmax')(x)\n",
    "    model = Model(inputs=base_model.input, outputs=predictions)\n",
    "    # Train top layer\n",
    "    for layer in base_model.layers:\n",
    "        layer.trainable = False\n",
    "        \n",
    "    model.compile(loss='categorical_crossentropy', \n",
    "                  optimizer='adam', \n",
    "                  metrics=['accuracy'])\n",
    "    callbacks_list = [keras.callbacks.EarlyStopping(monitor='val_acc', patience=3, verbose=1)]\n",
    "    model.summary()\n",
    "    \n",
    "    # Fit model\n",
    "#     history = model.fit(xtrain,ytrain, epochs=numepochs, class_weight=classweight, validation_data=(xtest,ytest), verbose=1,callbacks = [MetricsCheckpoint('logs')])\n",
    "    history = model.fit(xtrain,ytrain, epochs=numepochs, batch_size=64,validation_data=(xtest,ytest))\n",
    "\n",
    "    # Evaluate model\n",
    "    score = model.evaluate(xtest,ytest, verbose=0)\n",
    "    print('\\nKeras CNN - accuracy:', score[1], '\\n')\n",
    "#     y_pred = model.predict(xtest)\n",
    "#     print('\\n', sklearn.metrics.classification_report(np.where(ytest > 0)[1], np.argmax(y_pred, axis=1), target_names=list(labels.values()))) \n",
    "#     Y_pred_classes = np.argmax(y_pred,axis = 1) \n",
    "#     Y_true = np.argmax(ytest,axis = 1) \n",
    "\n",
    "\n",
    "#     confusion_mtx = confusion_matrix(Y_true, Y_pred_classes) \n",
    "#     plotKerasLearningCurve()\n",
    "#     plt.show()\n",
    "#     plot_learning_curve(history)\n",
    "#     plt.show()\n",
    "#     plot_confusion_matrix(confusion_mtx, classes = list(labels.values()))\n",
    "#     plt.show()\n",
    "    return model,history\n",
    "themodel = pretrainedNetwork(X_train, Y_train, X_val, Y_val, pretrained_model_1,weight_path1,class_weight1,37,50,dict_labels)"
   ]
  },
  {
   "cell_type": "code",
   "execution_count": 22,
   "id": "infectious-thought",
   "metadata": {},
   "outputs": [
    {
     "name": "stdout",
     "output_type": "stream",
     "text": [
      "              precision    recall  f1-score   support\n",
      "\n",
      "           1       0.96      0.93      0.95       876\n",
      "           2       0.96      0.97      0.96       842\n",
      "           3       0.90      0.95      0.92       904\n",
      "           4       1.00      1.00      1.00       786\n",
      "           5       0.97      0.97      0.97       898\n",
      "           6       0.98      0.96      0.97       852\n",
      "           7       0.93      0.91      0.92       908\n",
      "           8       0.96      0.97      0.96       842\n",
      "           9       0.98      0.95      0.96       874\n",
      "          10       0.98      1.00      0.99       848\n",
      "          11       0.97      0.97      0.97       878\n",
      "          12       0.99      1.00      0.99       938\n",
      "          13       0.99      1.00      1.00       874\n",
      "          14       0.98      0.97      0.98       882\n",
      "          15       1.00      1.00      1.00       826\n",
      "          16       0.99      1.00      0.99       826\n",
      "          17       0.99      0.99      0.99       906\n",
      "          18       1.00      0.99      1.00       878\n",
      "          19       1.00      0.98      0.99       920\n",
      "          20       0.99      1.00      1.00       948\n",
      "          21       0.99      0.96      0.97       924\n",
      "          22       1.00      1.00      1.00       876\n",
      "          23       0.94      0.96      0.95       912\n",
      "          24       0.94      0.90      0.92       862\n",
      "          25       0.94      0.96      0.95       964\n",
      "          26       1.00      1.00      1.00       852\n",
      "          27       1.00      1.00      1.00       902\n",
      "          28       0.96      0.99      0.97       864\n",
      "          29       0.96      0.96      0.96       794\n",
      "          30       0.94      0.96      0.95       912\n",
      "          31       0.97      0.95      0.96       856\n",
      "          32       0.93      0.90      0.91       892\n",
      "          33       0.92      0.93      0.92       900\n",
      "          34       0.99      0.99      0.99       928\n",
      "          35       0.99      0.99      0.99       800\n",
      "          36       0.98      0.94      0.96       878\n",
      "\n",
      "    accuracy                           0.97     31622\n",
      "   macro avg       0.97      0.97      0.97     31622\n",
      "weighted avg       0.97      0.97      0.97     31622\n",
      "\n"
     ]
    }
   ],
   "source": [
    "y_pred = themodel.predict(X_test)\n",
    "print(sklearn.metrics.classification_report(np.where(Y_test > 0)[1], np.argmax(y_pred, axis=1))) \n",
    "Y_pred_classes = np.argmax(y_pred,axis = 1) \n",
    "Y_true = np.argmax(Y_test,axis = 1)"
   ]
  },
  {
   "cell_type": "code",
   "execution_count": 48,
   "id": "honest-growing",
   "metadata": {},
   "outputs": [
    {
     "data": {
      "text/plain": [
       "dict_keys(['loss', 'accuracy', 'val_loss', 'val_accuracy'])"
      ]
     },
     "execution_count": 48,
     "metadata": {},
     "output_type": "execute_result"
    }
   ],
   "source": [
    "# history.history.keys()\n",
    "themodel[1].history.keys()"
   ]
  },
  {
   "cell_type": "code",
   "execution_count": 28,
   "id": "expected-chemistry",
   "metadata": {},
   "outputs": [
    {
     "data": {
      "image/png": "[encoded data removed]",
      "text/plain": [
       "<Figure size 432x288 with 1 Axes>"
      ]
     },
     "metadata": {
      "needs_background": "light"
     },
     "output_type": "display_data"
    }
   ],
   "source": [
    "import matplotlib.pyplot as plt\n",
    "\n",
    "plt.plot(themodel[1].history['accuracy'])\n",
    "plt.plot(themodel[1].history['val_accuracy'])\n",
    "plt.title(\"Accuracy\")\n",
    "plt.xlabel('epoch')\n",
    "plt.ylabel('accuracy')\n",
    "plt.legend(['train','test'])\n",
    "plt.show()"
   ]
  },
  {
   "cell_type": "code",
   "execution_count": 29,
   "id": "alpha-pearl",
   "metadata": {},
   "outputs": [
    {
     "data": {
      "image/png": "[encoded data removed]",
      "text/plain": [
       "<Figure size 432x288 with 1 Axes>"
      ]
     },
     "metadata": {
      "needs_background": "light"
     },
     "output_type": "display_data"
    }
   ],
   "source": [
    "plt.plot(themodel[1].history['loss'])\n",
    "plt.plot(themodel[1].history['val_loss'])\n",
    "plt.title(\"Loss\")\n",
    "plt.xlabel('epoch')\n",
    "plt.ylabel('loss')\n",
    "plt.legend(['train','test'])\n",
    "plt.show()"
   ]
  },
  {
   "cell_type": "code",
   "execution_count": 30,
   "id": "stuck-vertical",
   "metadata": {},
   "outputs": [
    {
     "name": "stdout",
     "output_type": "stream",
     "text": [
      "INFO:tensorflow:Assets written to: vgg2dataswithflip/assets\n"
     ]
    }
   ],
   "source": [
    "themodel[0].save(\"vgg2dataswithflip\")\n",
    "\n",
    "import pickle\n",
    "\n",
    "f = open('vgg2dataswithflipHis','wb')\n",
    "pickle.dump(themodel[1].history,f)\n",
    "f.close()"
   ]
  },
  {
   "cell_type": "code",
   "execution_count": 250,
   "id": "mineral-gibraltar",
   "metadata": {},
   "outputs": [],
   "source": [
    "model = tf.keras.models.load_model(\"vgg2dataswithflip\")\n",
    "y_pred = model.predict(X_test)"
   ]
  },
  {
   "cell_type": "code",
   "execution_count": 251,
   "id": "elder-prevention",
   "metadata": {},
   "outputs": [
    {
     "data": {
      "image/png": "[encoded data removed]",
      "text/plain": [
       "<Figure size 1080x1080 with 2 Axes>"
      ]
     },
     "metadata": {},
     "output_type": "display_data"
    },
    {
     "data": {
      "text/plain": [
       "<Figure size 432x288 with 0 Axes>"
      ]
     },
     "metadata": {},
     "output_type": "display_data"
    }
   ],
   "source": [
    "import seaborn as sns\n",
    "import pandas as pd\n",
    "import matplotlib.pyplot as plt\n",
    "from sklearn.metrics import confusion_matrix\n",
    "\n",
    "class_labels = [k for k, v in dict_labels_new.items()]\n",
    "inv_dict_labels_new = {v: k for k, v in dict_labels_new.items()}\n",
    "\n",
    "class_labels.insert(0,-1)\n",
    "cf_mtx = confusion_matrix(np.argmax(Y_test,axis=1), np.argmax(np.round(y_pred), axis=1))\n",
    "\n",
    "center = [cf_mtx[i][i] for i in range(1,37)]\n",
    "center = np.array(center)\n",
    "sortindex = np.argsort(center)\n",
    "array = np.concatenate((sortindex[0:5]+1,sortindex[-5:]+1))\n",
    "\n",
    "smaller_matrix = [[cf_mtx[j][i] for i in array] for j in array]\n",
    "small_class_labels = [inv_dict_labels_new[k] for k in array]\n",
    "\n",
    "other = sortindex[5:-5]+1\n",
    "otherval = [[cf_mtx[i][j] for j in other] for i in array]\n",
    "otherval = np.sum(np.array(otherval),axis=1)\n",
    "\n",
    "for i in range(len(smaller_matrix)):\n",
    "    smaller_matrix[i].append(otherval[i])\n",
    "    \n",
    "x_label = small_class_labels[:]\n",
    "x_label.append(\"Other\")\n",
    "\n",
    "df_cm = pd.DataFrame(smaller_matrix, index = small_class_labels, columns = x_label)\n",
    "plt.figure(figsize = (15,15))\n",
    "sns.set(font_scale=2.0)\n",
    "sns.heatmap(df_cm, fmt='.20g', annot=True, cmap='coolwarm')\n",
    "plt.show()\n",
    "plt.savefig('confusion.png')"
   ]
  },
  {
   "cell_type": "code",
   "execution_count": null,
   "id": "north-leather",
   "metadata": {},
   "outputs": [],
   "source": []
  }
 ],
 "metadata": {
  "kernelspec": {
   "display_name": "Python 3",
   "language": "python",
   "name": "python3"
  },
  "language_info": {
   "codemirror_mode": {
    "name": "ipython",
    "version": 3
   },
   "file_extension": ".py",
   "mimetype": "text/x-python",
   "name": "python",
   "nbconvert_exporter": "python",
   "pygments_lexer": "ipython3",
   "version": "3.7.10"
  }
 },
 "nbformat": 4,
 "nbformat_minor": 5
}
